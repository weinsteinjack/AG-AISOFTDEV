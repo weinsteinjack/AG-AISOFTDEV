{
 "cells": [
  {
   "cell_type": "markdown",
   "metadata": {},
   "source": [
    "# Day 2 - Self-Paced Practice: Designing a Real-Time Chat Application\n",
    "\n",
    "**Objective:** Reinforce the concept of diagram-as-code by generating architectural diagrams for a new problem domain.\n",
    "\n",
    "**Estimated Time:** 45 minutes\n",
    "\n",
    "**Introduction:**\n",
    "A key skill for a modern architect is the ability to quickly visualize and communicate system design. In this lab, you will practice using an LLM to generate two different types of diagrams for a common software system: a real-time chat application. This will help you become more fluent in prompting for and interpreting diagrams-as-code."
   ]
  },
  {
   "cell_type": "markdown",
   "metadata": {},
   "source": [
    "## 1. Setup\n",
    "\n",
    "We'll begin by setting up our environment, importing the necessary utilities and initializing our LLM client."
   ]
  },
  {
   "cell_type": "markdown",
   "metadata": {},
   "source": [
    "### 🔧 SSL Certificate Fix Applied\n",
    "\n",
    "**Issue:** Corporate networks (like Booz Allen Hamilton) often intercept SSL certificates, causing PlantUML rendering to fail with SSL verification errors.\n",
    "\n",
    "**Solution:** The `utils/plantuml.py` has been updated to:\n",
    "1. Use HTTP instead of HTTPS by default (avoiding SSL issues)\n",
    "2. Automatically disable SSL verification when HTTPS is required\n",
    "3. Provide better error handling and feedback\n",
    "\n",
    "**Note:** If you need to restart your kernel for the changes to take effect, do so now before running the cells below.\n"
   ]
  },
  {
   "cell_type": "code",
   "execution_count": 1,
   "metadata": {},
   "outputs": [
    {
     "name": "stderr",
     "output_type": "stream",
     "text": [
      "2025-10-29 14:09:46,205 ag_aisoftdev.utils INFO LLM Client configured provider=google model=gemini-2.5-pro latency_ms=None artifacts_path=None\n"
     ]
    }
   ],
   "source": [
    "import sys\n",
    "import os\n",
    "\n",
    "# Add the project's root directory to the Python path\n",
    "try:\n",
    "    project_root = os.path.abspath(os.path.join(os.getcwd(), '..', '..'))\n",
    "except IndexError:\n",
    "    project_root = os.path.abspath(os.path.join(os.getcwd()))\n",
    "\n",
    "if project_root not in sys.path:\n",
    "    sys.path.insert(0, project_root)\n",
    "\n",
    "from utils import setup_llm_client, get_completion, render_plantuml_diagram, save_artifact, clean_llm_output\n",
    "\n",
    "# For design tasks, models with strong reasoning are recommended.\n",
    "client, model_name, api_provider = setup_llm_client(model_name=\"gemini-2.5-pro\")"
   ]
  },
  {
   "cell_type": "markdown",
   "metadata": {},
   "source": [
    "## 2. The Problem Statement\n",
    "\n",
    "Your task is to design the high-level architecture for a simple, real-time chat application. \n",
    "\n",
    "**Core Components & Flow:**\n",
    "1.  A **Frontend** (web browser) where users interact.\n",
    "2.  A **Backend API Server** to handle user authentication and message history.\n",
    "3.  A **WebSocket Server** to handle real-time message broadcasting.\n",
    "4.  A **Database** to store user information and chat messages."
   ]
  },
  {
   "cell_type": "markdown",
   "metadata": {},
   "source": [
    "### ⭐ Deeper Dive: The Power of \"Diagrams as Code\"\n",
    "\n",
    "The technique you're using in this lab—generating PlantUML or Mermaid code from a prompt—is a form of **\"Diagrams as Code.\"** This is a powerful, modern practice with several key advantages over using traditional drag-and-drop GUI tools:\n",
    "\n",
    "- **Version Controllable:** Since the diagram is just a text file, you can check it into Git, review changes in pull requests, and track its history alongside your application code.\n",
    "- **Easily Editable:** Modifying a relationship or adding a component is as simple as changing a line of text. This is often much faster than fiddling with boxes and arrows in a GUI.\n",
    "- **Consistent:** Templates and code generation ensure that all diagrams across your organization can share a consistent style and level of detail.\n",
    "- **Automatable:** Because it's text, you can build tools that automatically generate or update architecture diagrams as part of your CI/CD pipeline, ensuring your documentation never goes stale."
   ]
  },
  {
   "cell_type": "markdown",
   "metadata": {},
   "source": [
    "## 3. Your Tasks"
   ]
  },
  {
   "cell_type": "markdown",
   "metadata": {},
   "source": [
    "### Task 1: Generate a Component Diagram\n",
    "\n",
    "First, we'll create a **component diagram**. This type of diagram is excellent for showing the high-level static structure of a system and how the major pieces are connected."
   ]
  },
  {
   "cell_type": "markdown",
   "metadata": {},
   "source": [
    "#### 💡 Pro-Tip: Prompting for Structural Diagrams\n",
    "\n",
    "When prompting an LLM to generate a structural diagram (like a Component, C4, or Class diagram), follow this pattern for the best results:\n",
    "\n",
    "1.  **State the Format:** Begin by clearly stating you want `PlantUML code for a component diagram`.\n",
    "2.  **Define the Components:** Explicitly list the key components or containers you want to see in the diagram. This gives the LLM the primary \"actors.\"\n",
    "3.  **Describe the Relationships:** Clearly describe the connections *between* the components. Use directional language like \"Component A sends data to Component B via HTTPS.\"\n",
    "4.  **Constrain the Output:** End by reminding the model to `\"Output only the raw PlantUML code.\"`"
   ]
  },
  {
   "cell_type": "code",
   "execution_count": 2,
   "metadata": {},
   "outputs": [
    {
     "name": "stdout",
     "output_type": "stream",
     "text": [
      "--- Generating Component Diagram ---\n",
      "\n",
      "--- Generated PlantUML Code ---\n",
      "@startuml\n",
      "\n",
      "!theme plain\n",
      "\n",
      "component \"Frontend\" as FE\n",
      "component \"Backend API Server\" as API\n",
      "component \"WebSocket Server\" as WS\n",
      "database \"Database\" as DB\n",
      "\n",
      "FE -right-> API : \"HTTPS\\n(Login, Get History)\"\n",
      "FE -down-> WS : \"WebSocket\\n(Real-time Messaging)\"\n",
      "WS .up.> API : \"Store New Messages\"\n",
      "API -right-> DB : \"Read/Write\"\n",
      "\n",
      "@enduml\n"
     ]
    },
    {
     "name": "stderr",
     "output_type": "stream",
     "text": [
      "2025-10-29 14:10:03,341 ag_aisoftdev.utils INFO PlantUML diagram rendered. provider=None model=None latency_ms=None artifacts_path=C:\\Users\\640109\\OneDrive - BOOZ ALLEN HAMILTON\\Documents\\AG-AISOFTDEV-1\\artifacts\\day2_sp_chat_app_component_diagram.png\n"
     ]
    },
    {
     "name": "stdout",
     "output_type": "stream",
     "text": [
      "\n",
      "✅ SUCCESS: Component diagram rendered successfully!\n",
      "   Saved to: C:\\Users\\640109\\OneDrive - BOOZ ALLEN HAMILTON\\Documents\\AG-AISOFTDEV-1\\artifacts\\day2_sp_chat_app_component_diagram.png\n"
     ]
    }
   ],
   "source": [
    "# TODO: Write a prompt to generate a PlantUML component diagram.\n",
    "# Follow the pro-tip above to structure your prompt.\n",
    "component_diagram_prompt = \"\"\"\n",
    "You are an expert system architect. Generate PlantUML code for a component diagram that describes a real-time chat application.\n",
    "\n",
    "The diagram should include the following four components:\n",
    "- A 'Frontend' (e.g., a web browser)\n",
    "- A 'Backend API Server'\n",
    "- A 'WebSocket Server'\n",
    "- A 'Database'\n",
    "\n",
    "The relationships are as follows:\n",
    "- The Frontend communicates with the Backend API Server over HTTPS for tasks like login and getting message history.\n",
    "- The Frontend maintains a persistent WebSocket connection to the WebSocket Server for real-time messaging.\n",
    "- The WebSocket Server sends new messages to the Backend API Server to be stored.\n",
    "- The Backend API Server reads from and writes to the Database.\n",
    "\n",
    "Output only the raw PlantUML code inside a markdown block.\n",
    "\"\"\"\n",
    "\n",
    "print(\"--- Generating Component Diagram ---\")\n",
    "component_puml_raw = get_completion(component_diagram_prompt, client, model_name, api_provider)\n",
    "component_puml = clean_llm_output(component_puml_raw, language='plantuml')\n",
    "\n",
    "print(\"\\n--- Generated PlantUML Code ---\")\n",
    "print(component_puml)\n",
    "\n",
    "# Render the diagram with proper error handling\n",
    "if component_puml:\n",
    "    try:\n",
    "        output_path = render_plantuml_diagram(component_puml, \"day2_sp_chat_app_component_diagram.png\")\n",
    "        print(f\"\\n✅ SUCCESS: Component diagram rendered successfully!\")\n",
    "        print(f\"   Saved to: {output_path}\")\n",
    "    except Exception as e:\n",
    "        print(f\"\\n❌ ERROR: Failed to render diagram: {e}\")\n",
    "        print(\"   The PlantUML code was generated, but rendering failed.\")\n",
    "else:\n",
    "    print(\"\\n❌ ERROR: No PlantUML code was generated.\")"
   ]
  },
  {
   "cell_type": "markdown",
   "metadata": {},
   "source": [
    "### Task 2: Generate a Sequence Diagram\n",
    "\n",
    "Next, we'll create a **sequence diagram**. This type of diagram is used to model the interactions between objects in a sequential order — it shows *how* components collaborate to complete a task."
   ]
  },
  {
   "cell_type": "markdown",
   "metadata": {},
   "source": [
    "#### 💡 Pro-Tip: Prompting for Behavioral Diagrams\n",
    "\n",
    "When prompting for a behavioral diagram (like a Sequence or Activity diagram), use a narrative style:\n",
    "\n",
    "1.  **State the Format:** `Generate PlantUML code for a sequence diagram`.\n",
    "2.  **Define the Participants:** List the actors or components involved in the interaction.\n",
    "3.  **Tell a Story:** Describe the sequence of events step-by-step, as if you were narrating the process. Use phrases like `\"First, User A does X. Then, System B sends a message to System C.\"`. This chronological description maps perfectly to the structure of a sequence diagram."
   ]
  },
  {
   "cell_type": "code",
   "execution_count": 3,
   "metadata": {},
   "outputs": [
    {
     "name": "stdout",
     "output_type": "stream",
     "text": [
      "--- Generating Sequence Diagram ---\n",
      "\n",
      "--- Generated PlantUML Code ---\n",
      "@startuml\n",
      "title Chat Message Flow: User A to User B\n",
      "\n",
      "autonumber\n",
      "\n",
      "actor \"User A\" as User_A\n",
      "participant \"Browser\" as Browser\n",
      "participant \"WebSocket Server\" as WebSocket_Server\n",
      "participant \"Backend API\" as Backend_API\n",
      "actor \"User B\" as User_B\n",
      "\n",
      "User_A -> Browser: Types message and clicks send\n",
      "Browser -> WebSocket_Server: sendMessage(message)\n",
      "activate WebSocket_Server\n",
      "\n",
      "' The server performs two actions in parallel: broadcasting and persisting\n",
      "WebSocket_Server -> Browser: broadcastMessage(message)\n",
      "activate Browser\n",
      "Browser -> User_B: Displays new message\n",
      "deactivate Browser\n",
      "\n",
      "WebSocket_Server -> Backend_API: saveMessage(message)\n",
      "activate Backend_API\n",
      "note right of Backend_API: Store message in database\n",
      "deactivate Backend_API\n",
      "\n",
      "deactivate WebSocket_Server\n",
      "\n",
      "@enduml\n"
     ]
    },
    {
     "name": "stderr",
     "output_type": "stream",
     "text": [
      "2025-10-29 14:10:41,973 ag_aisoftdev.utils INFO PlantUML diagram rendered. provider=None model=None latency_ms=None artifacts_path=C:\\Users\\640109\\OneDrive - BOOZ ALLEN HAMILTON\\Documents\\AG-AISOFTDEV-1\\artifacts\\day2_sp_chat_app_sequence_diagram.png\n"
     ]
    },
    {
     "name": "stdout",
     "output_type": "stream",
     "text": [
      "\n",
      "✅ SUCCESS: Sequence diagram rendered successfully!\n",
      "   Saved to: C:\\Users\\640109\\OneDrive - BOOZ ALLEN HAMILTON\\Documents\\AG-AISOFTDEV-1\\artifacts\\day2_sp_chat_app_sequence_diagram.png\n"
     ]
    }
   ],
   "source": [
    "# TODO: Write a prompt to generate a PlantUML sequence diagram.\n",
    "# Use the narrative, storytelling approach from the pro-tip.\n",
    "sequence_diagram_prompt = \"\"\"\n",
    "You are an expert system architect. Generate PlantUML code for a sequence diagram illustrating the process of one user sending a chat message and another user receiving it.\n",
    "\n",
    "The participants in the diagram should be: 'User_A', 'Browser', 'Backend_API', 'WebSocket_Server', and 'User_B'.\n",
    "\n",
    "The sequence of events is as follows:\n",
    "1. First, User_A types a message into their Browser and clicks send.\n",
    "2. The Browser sends the message to the WebSocket_Server over the active connection.\n",
    "3. The WebSocket_Server immediately broadcasts this message to all other connected clients, including User_B's Browser.\n",
    "4. User_B's Browser receives the message and displays it.\n",
    "5. In parallel, the WebSocket_Server also sends the message to the Backend_API to be saved for history.\n",
    "6. The Backend_API stores the message in the database.\n",
    "\n",
    "Output only the raw PlantUML code inside a markdown block.\n",
    "\"\"\"\n",
    "\n",
    "print(\"--- Generating Sequence Diagram ---\")\n",
    "sequence_puml_raw = get_completion(sequence_diagram_prompt, client, model_name, api_provider)\n",
    "sequence_puml = clean_llm_output(sequence_puml_raw, language='plantuml')\n",
    "\n",
    "print(\"\\n--- Generated PlantUML Code ---\")\n",
    "print(sequence_puml)\n",
    "\n",
    "# Render the diagram with proper error handling\n",
    "if sequence_puml:\n",
    "    try:\n",
    "        output_path = render_plantuml_diagram(sequence_puml, \"day2_sp_chat_app_sequence_diagram.png\")\n",
    "        print(f\"\\n✅ SUCCESS: Sequence diagram rendered successfully!\")\n",
    "        print(f\"   Saved to: {output_path}\")\n",
    "    except Exception as e:\n",
    "        print(f\"\\n❌ ERROR: Failed to render diagram: {e}\")\n",
    "        print(\"   The PlantUML code was generated, but rendering failed.\")\n",
    "else:\n",
    "    print(\"\\n❌ ERROR: No PlantUML code was generated.\")"
   ]
  },
  {
   "cell_type": "markdown",
   "metadata": {},
   "source": [
    "## Lab Conclusion\n",
    "\n",
    "Great work! In this practice lab, you have reinforced your ability to use an LLM to generate different types of architectural diagrams from a text description. You created both a static component diagram showing the system's structure and a dynamic sequence diagram showing a key user interaction. This skill is invaluable for quickly communicating complex designs to your team."
   ]
  }
 ],
 "metadata": {
  "kernelspec": {
   "display_name": ".venv",
   "language": "python",
   "name": "python3"
  },
  "language_info": {
   "codemirror_mode": {
    "name": "ipython",
    "version": 3
   },
   "file_extension": ".py",
   "mimetype": "text/x-python",
   "name": "python",
   "nbconvert_exporter": "python",
   "pygments_lexer": "ipython3",
   "version": "3.13.9"
  }
 },
 "nbformat": 4,
 "nbformat_minor": 4
}
