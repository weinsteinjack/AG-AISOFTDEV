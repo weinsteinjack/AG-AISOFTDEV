{
 "cells": [
  {
   "cell_type": "markdown",
   "metadata": {},
   "source": [
    "# Day 3 - Self-Paced Practice: Building a URL Shortener API\n",
    "\n",
    "**Objective:** Reinforce the concepts of Day 3 by generating a new, self-contained FastAPI application for a different problem domain.\n",
    "\n",
    "**Estimated Time:** 45 minutes\n",
    "\n",
    "**Introduction:**\n",
    "This optional lab challenges you to apply the API generation skills you learned in the core lab to a classic software problem: a URL shortener. This will help solidify your ability to translate requirements into a functional API using an AI co-pilot."
   ]
  },
  {
   "cell_type": "markdown",
   "metadata": {},
   "source": [
    "## 1. Setup\n",
    "\n",
    "We'll start with our standard setup to get the project path configured and our LLM client initialized."
   ]
  },
  {
   "cell_type": "code",
   "execution_count": 1,
   "metadata": {},
   "outputs": [
    {
     "name": "stderr",
     "output_type": "stream",
     "text": [
      "2025-10-28 16:37:05,211 ag_aisoftdev.utils INFO LLM Client configured provider=google model=gemini-2.5-pro latency_ms=None artifacts_path=None\n"
     ]
    }
   ],
   "source": [
    "import sys\n",
    "import os\n",
    "\n",
    "# Add the project's root directory to the Python path\n",
    "try:\n",
    "    project_root = os.path.abspath(os.path.join(os.getcwd(), '..', '..'))\n",
    "except IndexError:\n",
    "    project_root = os.path.abspath(os.path.join(os.getcwd()))\n",
    "\n",
    "if project_root not in sys.path:\n",
    "    sys.path.insert(0, project_root)\n",
    "\n",
    "from utils import setup_llm_client, get_completion, save_artifact, clean_llm_output\n",
    "\n",
    "# For code generation, models specifically fine-tuned for code are ideal.\n",
    "client, model_name, api_provider = setup_llm_client(model_name=\"gemini-2.5-pro\")"
   ]
  },
  {
   "cell_type": "markdown",
   "metadata": {},
   "source": [
    "## 2. The Problem Statement\n",
    "\n",
    "Your task is to build a simple API for a URL shortening service.\n",
    "\n",
    "**Core Requirements:**\n",
    "1.  A `POST /shorten` endpoint that accepts a long URL and returns a unique, short code.\n",
    "2.  A `GET /{short_code}` endpoint that accepts a short code and performs an HTTP redirect to the original long URL.\n",
    "3.  The service should use a simple in-memory Python dictionary for storage (no database required)."
   ]
  },
  {
   "cell_type": "markdown",
   "metadata": {},
   "source": [
    "### ⭐ Deeper Dive: The \"One-Shot Generation\" Pattern\n",
    "\n",
    "In the core labs, we often broke down tasks into multiple steps (e.g., generate Pydantic models, then generate endpoints). However, for well-defined, self-contained problems like this URL shortener, you can often generate the entire application in a single prompt. This is the **\"One-Shot Generation\"** pattern, and it's incredibly powerful for rapid prototyping.\n",
    "\n",
    "The key to successful one-shot generation is a highly-structured and detailed prompt. A great mental model for this is the **PCCTO** framework:\n",
    "\n",
    "- **P - Persona:** Tell the AI *who* it should be. `\"You are an expert Python developer specializing in FastAPI.\"`\n",
    "- **C - Context:** Give it all the background information it needs. `\"You are building a URL shortener service with the following requirements...\"`\n",
    "- **C - Constraints:** Define the boundaries and rules. `\"You must use an in-memory dictionary for storage. The short code must be 6 characters long.\"`\n",
    "- **T - Task:** State the specific action to perform. `\"Generate the complete Python code for a single main.py file.\"`\n",
    "- **O - Output:** Define the exact format of the response. `\"The output must be only the raw Python code, with no explanations.\"`\n",
    "\n",
    "Mastering this pattern will allow you to create functional application prototypes in seconds."
   ]
  },
  {
   "cell_type": "markdown",
   "metadata": {},
   "source": [
    "## 3. Your Task\n",
    "\n",
    "Create a single, comprehensive prompt to generate the complete code for this URL shortener service in a single `main.py` file."
   ]
  },
  {
   "cell_type": "code",
   "execution_count": 2,
   "metadata": {},
   "outputs": [
    {
     "name": "stdout",
     "output_type": "stream",
     "text": [
      "--- Generating URL Shortener API ---\n",
      "\n",
      "--- Generated Code ---\n",
      "import random\n",
      "import string\n",
      "from fastapi import FastAPI, HTTPException\n",
      "from fastapi.responses import RedirectResponse\n",
      "from pydantic import BaseModel, HttpUrl\n",
      "\n",
      "app = FastAPI(\n",
      "    title=\"Simple URL Shortener\",\n",
      "    description=\"A basic URL shortener service using FastAPI and in-memory storage.\",\n",
      "    version=\"1.0.0\",\n",
      ")\n",
      "\n",
      "# In-memory storage for URL mappings\n",
      "url_db = {}\n",
      "\n",
      "class URLItem(BaseModel):\n",
      "    url: HttpUrl\n",
      "\n",
      "def generate_short_code(length: int = 6) -> str:\n",
      "    \"\"\"Generate a random alphanumeric short code of a given length.\"\"\"\n",
      "    characters = string.ascii_letters + string.digits\n",
      "    return \"\".join(random.choice(characters) for _ in range(length))\n",
      "\n",
      "@app.post(\"/shorten\", summary=\"Create a short URL\")\n",
      "async def create_short_url(url_item: URLItem):\n",
      "    \"\"\"\n",
      "    Takes a long URL and returns a unique short code.\n",
      "    \n",
      "    - **url**: The original URL to be shortened.\n",
      "    \"\"\"\n",
      "    long_url = str(url_item.url)\n",
      "    \n",
      "    # Ensure the generated code is unique\n",
      "    while True:\n",
      "        short_code = generate_short_code()\n",
      "        if short_code not in url_db:\n",
      "            break\n",
      "            \n",
      "    url_db[short_code] = long_url\n",
      "    return {\"short_code\": short_code}\n",
      "\n",
      "@app.get(\"/{short_code}\", summary=\"Redirect to the original URL\")\n",
      "async def redirect_to_url(short_code: str):\n",
      "    \"\"\"\n",
      "    Redirects a short code to its original long URL.\n",
      "    \n",
      "    - **short_code**: The 6-character unique code.\n",
      "    \"\"\"\n",
      "    if short_code in url_db:\n",
      "        long_url = url_db[short_code]\n",
      "        return RedirectResponse(url=long_url, status_code=301)\n",
      "    else:\n",
      "        raise HTTPException(status_code=404, detail=\"Short URL not found\")\n",
      "\n",
      "if __name__ == \"__main__\":\n",
      "    import uvicorn\n",
      "    uvicorn.run(app, host=\"0.0.0.0\", port=8000)\n"
     ]
    }
   ],
   "source": [
    "# TODO: Write your comprehensive prompt here.\n",
    "# Use the PCCTO framework described above to structure your prompt.\n",
    "url_shortener_prompt = \"\"\"\n",
    "You are an expert Python developer specializing in creating efficient, production-ready FastAPI applications.\n",
    "\n",
    "Your task is to generate the complete code for a simple URL shortener service in a single Python script.\n",
    "\n",
    "**Context & Requirements:**\n",
    "1.  The application must be built using FastAPI.\n",
    "2.  It needs two endpoints:\n",
    "    - A `POST /shorten` endpoint that takes a JSON body with a `url` key (e.g., {\"url\": \"http://example.com\"}) and returns a JSON response with the `short_code`.\n",
    "    - A `GET /{short_code}` endpoint that takes a short code from the path and returns a 301 Permanent Redirect to the original URL.\n",
    "3.  Storage must be a simple, in-memory Python dictionary.\n",
    "4.  The short code should be a random 6-character alphanumeric string.\n",
    "\n",
    "**Constraints:**\n",
    "- All code must be in a single file.\n",
    "- Use standard Python libraries (like `string` and `random`) for generating the short code.\n",
    "- Include Pydantic models for request validation.\n",
    "- The redirect response should be handled using FastAPI's `RedirectResponse`.\n",
    "\n",
    "**Output Format:**\n",
    "Output only the raw, complete Python code for the application. Do not include any explanations, comments, or markdown fences.\n",
    "\"\"\"\n",
    "\n",
    "print(\"--- Generating URL Shortener API ---\")\n",
    "url_shortener_code_raw = get_completion(url_shortener_prompt, client, model_name, api_provider)\n",
    "url_shortener_code = clean_llm_output(url_shortener_code_raw, language='python')\n",
    "\n",
    "print(\"\\n--- Generated Code ---\")\n",
    "print(url_shortener_code)\n",
    "\n",
    "# Save the final output as a Python file\n",
    "if url_shortener_code:\n",
    "    save_artifact(url_shortener_code, \"app/day3_sp_url_shortener.py\")"
   ]
  },
  {
   "cell_type": "markdown",
   "metadata": {},
   "source": [
    "## Lab Conclusion\n",
    "\n",
    "Well done. You have successfully generated a completely new FastAPI application from a single, detailed set of requirements. This exercise reinforces the core workflow of Day 3 and demonstrates how quickly you can create functional API prototypes with AI assistance by using structured, one-shot prompting techniques."
   ]
  }
 ],
 "metadata": {
  "kernelspec": {
   "display_name": ".venv",
   "language": "python",
   "name": "python3"
  },
  "language_info": {
   "codemirror_mode": {
    "name": "ipython",
    "version": 3
   },
   "file_extension": ".py",
   "mimetype": "text/x-python",
   "name": "python",
   "nbconvert_exporter": "python",
   "pygments_lexer": "ipython3",
   "version": "3.13.9"
  }
 },
 "nbformat": 4,
 "nbformat_minor": 4
}
